{
 "cells": [
  {
   "cell_type": "code",
   "execution_count": null,
   "id": "94bc782f",
   "metadata": {},
   "outputs": [],
   "source": [
    "from parse_dict import main\n",
    "excluded = 'dupa'\n",
    "yellow = ''\n",
    "green = '.....'\n",
    "main('pl', excluded, yellow, green)"
   ]
  },
  {
   "cell_type": "code",
   "execution_count": null,
   "id": "27adbaba",
   "metadata": {},
   "outputs": [],
   "source": [
    "from parse_dict import main\n",
    "excluded = 'dupa'\n",
    "yellow = ''\n",
    "green = '.....'\n",
    "main('en', excluded, yellow, green)"
   ]
  }
 ],
 "metadata": {
  "kernelspec": {
   "display_name": "Python 3 (ipykernel)",
   "language": "python",
   "name": "python3"
  },
  "language_info": {
   "codemirror_mode": {
    "name": "ipython",
    "version": 3
   },
   "file_extension": ".py",
   "mimetype": "text/x-python",
   "name": "python",
   "nbconvert_exporter": "python",
   "pygments_lexer": "ipython3",
   "version": "3.9.5"
  }
 },
 "nbformat": 4,
 "nbformat_minor": 5
}
