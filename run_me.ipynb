{
 "cells": [
  {
   "cell_type": "markdown",
   "metadata": {},
   "source": [
    "# How to\n",
    "\n",
    "## Słowo startowe\n",
    "\n",
    "Dla wersji angielskiej zaleca się startować ze słowa `arose`\n",
    "\n",
    "Dla wersji polskiej można zacząć słowem `penis`\n",
    "\n",
    "## Drugie i kolejne słowa\n",
    "\n",
    "Po wpisaniu pierwszego słowa należy zmodyfikować poniższe komórki tak aby:\n",
    "    \n",
    "    - excluded zawierały litery szare - te których na pewno nie ma w poszukiwanym słowie\n",
    "    - yellow zawierały litery żółte - te które na pewno są ale w niepoprawnym miejscu\n",
    "    - green zawierały litery zielone oraz tzw. wskazać miejsca gdzie na pewno nie ma liter żółtych.\n",
    "    \n",
    "dla przykładu, po wpisaniu słowa pierwszego (`arose`), na żółto podświetliła się litera `o`, a na zielono litera `e`. Reszta liter była szara.\n",
    "Odpowiednie pola będą wyglądały następująco: \n",
    "``` python\n",
    "excluded = 'ars'\n",
    "yellow = 'o'\n",
    "green = '..[^o].e'\n",
    "```\n",
    "po uruchomieniu kolejny raz programu, dostaliśmy propozycję słów, `ollie` oraz `oldie`. Wybieramy słowo `oldie` jako takie, które nie ma powtarzających się liter. Po wpisaniu słowa dostaliśmy informację, że litera `d` jest na dobry miejscu, więc aktualizujemy w nastepujący sposób:\n",
    "``` python\n",
    "excluded = 'arsli'\n",
    "yellow = 'o'\n",
    "green = '[^o].d.e'\n",
    "```\n",
    "Uruchomienie programu daje następujące słowa: `dodge` oraz `hodge`. Jako, że `hodge` nie jest akceptowanym słowem, wpisujemy `dodge`, które okazuje się być rozwiązaniem."
   ]
  },
  {
   "cell_type": "markdown",
   "metadata": {},
   "source": [
    "# English"
   ]
  },
  {
   "cell_type": "code",
   "execution_count": null,
   "metadata": {},
   "outputs": [],
   "source": [
    "from parse_dict import main\n",
    "excluded = 'arsli'\n",
    "yellow = 'o'\n",
    "green = '[^o].d.e'\n",
    "main('en', excluded, yellow, green)"
   ]
  },
  {
   "cell_type": "markdown",
   "metadata": {},
   "source": [
    "# Polski"
   ]
  },
  {
   "cell_type": "code",
   "execution_count": null,
   "metadata": {},
   "outputs": [],
   "source": [
    "from parse_dict import main\n",
    "excluded = 'dupa'\n",
    "yellow = ''\n",
    "green = '.....'\n",
    "main('pl', excluded, yellow, green)"
   ]
  }
 ],
 "metadata": {
  "kernelspec": {
   "display_name": "Python 3",
   "language": "python",
   "name": "python3"
  },
  "language_info": {
   "codemirror_mode": {
    "name": "ipython",
    "version": 3
   },
   "file_extension": ".py",
   "mimetype": "text/x-python",
   "name": "python",
   "nbconvert_exporter": "python",
   "pygments_lexer": "ipython3",
   "version": "3.7.4"
  }
 },
 "nbformat": 4,
 "nbformat_minor": 5
}
